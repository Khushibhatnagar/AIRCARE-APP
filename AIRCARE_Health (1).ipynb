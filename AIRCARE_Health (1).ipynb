{
  "nbformat": 4,
  "nbformat_minor": 0,
  "metadata": {
    "colab": {
      "provenance": []
    },
    "kernelspec": {
      "name": "python3",
      "display_name": "Python 3"
    },
    "language_info": {
      "name": "python"
    }
  },
  "cells": [
    {
      "cell_type": "code",
      "execution_count": null,
      "metadata": {
        "colab": {
          "base_uri": "https://localhost:8080/"
        },
        "id": "A2FT6RsB4lBj",
        "outputId": "b607a436-8b2b-41d6-db90-43199093f726"
      },
      "outputs": [
        {
          "output_type": "stream",
          "name": "stdout",
          "text": [
            "Requirement already satisfied: fuzzywuzzy in /usr/local/lib/python3.10/dist-packages (0.18.0)\n",
            "Selected Symptom: headache\n",
            "Predicted Medication: Aspirin\n"
          ]
        }
      ],
      "source": [
        "# installation of packet\n",
        "!pip install fuzzywuzzy\n",
        "from fuzzywuzzy import fuzz\n",
        "\n",
        "# Map of symptoms to corresponding medications\n",
        "medication_map = {\n",
        "    'fever': 'Paracetamol',\n",
        "    'body ache': 'Ibuprofen',\n",
        "    'headache': 'Aspirin',\n",
        "    'others': 'Consult a doctor for medication recommendation'\n",
        "}\n",
        "\n",
        "def fuzzy_match(symptom):\n",
        "    best_match = None\n",
        "    best_ratio = -1\n",
        "\n",
        "    # Iterate through each key in the medication_map\n",
        "    for key in medication_map.keys():\n",
        "\n",
        "        # Calculate the similarity ratio between the symptom and the key\n",
        "        ratio = fuzz.ratio(symptom.lower(), key.lower())\n",
        "\n",
        "        # Update the best match if the current ratio is higher\n",
        "        if ratio > best_ratio:\n",
        "            best_ratio = ratio\n",
        "            best_match = key\n",
        "\n",
        "    # Return the corresponding medication for the best match\n",
        "    return medication_map[best_match] if best_match else 'Invalid symptom'\n",
        "\n",
        "# Select a symptom to match\n",
        "selected_symptom = 'headache'\n",
        "\n",
        "# Get the predicted medication for the selected symptom using fuzzy matching\n",
        "predicted_medication = fuzzy_match(selected_symptom)\n",
        "\n",
        "# Print the selected symptom and the predicted medication\n",
        "print('Selected Symptom:', selected_symptom)\n",
        "print('Predicted Medication:', predicted_medication)\n"
      ]
    }
  ]
}